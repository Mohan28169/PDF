{
  "nbformat": 4,
  "nbformat_minor": 0,
  "metadata": {
    "colab": {
      "provenance": []
    },
    "kernelspec": {
      "name": "python3",
      "display_name": "Python 3"
    },
    "language_info": {
      "name": "python"
    }
  },
  "cells": [
    {
      "cell_type": "code",
      "source": [
        "import PyPDF2\n",
        "from googletrans import Translator\n",
        "\n",
        "# Function to read text from PDF\n",
        "def extract_text_from_pdf(pdf_path):\n",
        "    pdf_reader = PyPDF2.PdfFileReader(pdf_path)\n",
        "    text = ''\n",
        "    for page_num in range(pdf_reader.getNumPages()):\n",
        "        page = pdf_reader.getPage(page_num)\n",
        "        text += page.extract_text()\n",
        "    return text\n",
        "\n",
        "# Function to translate text from Hindi to English\n",
        "def translate_text(text, src_lang='hi', dest_lang='en'):\n",
        "    translator = Translator()\n",
        "    translation = translator.translate(text, src=src_lang, dest=dest_lang)\n",
        "    return translation.text\n",
        "\n",
        "# Path to your PDF file\n",
        "pdf_path = 'Hindi_PDF.pdf'  # Use the file name 'Hindi_PDF.pdf'\n",
        "\n",
        "# Extract text from PDF\n",
        "pdf_text = extract_text_from_pdf(pdf_path)\n",
        "\n",
        "# Translate the extracted text from Hindi to English\n",
        "translated_text = translate_text(pdf_text)\n",
        "\n",
        "# Output the translated text\n",
        "print(translated_text)\n",
        "\n",
        "# Optional: Save the translated text to a new file\n",
        "with open('translated_output.txt', 'w', encoding='utf-8') as file:\n",
        "    file.write(translated_text)\n"
      ],
      "metadata": {
        "id": "cjTdfGECQ5Y7"
      },
      "execution_count": null,
      "outputs": []
    }
  ]
}